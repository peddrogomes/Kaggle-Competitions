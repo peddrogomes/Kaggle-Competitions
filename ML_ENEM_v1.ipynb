{
 "cells": [
  {
   "cell_type": "markdown",
   "metadata": {
    "id": "7MT6fCaVNyKt"
   },
   "source": [
    "# Bibliotecas e leitura dos dados:"
   ]
  },
  {
   "cell_type": "code",
   "execution_count": 1,
   "metadata": {
    "colab": {
     "base_uri": "https://localhost:8080/"
    },
    "id": "5yzTPe47LC3G",
    "outputId": "90bd11cd-50b7-4999-efdc-94f9063fc18c"
   },
   "outputs": [],
   "source": [
    "#importanto bibliotecas\n",
    "\n",
    "import matplotlib.pyplot as plt\n",
    "import pandas as pd\n",
    "import numpy as np\n",
    "from sklearn import datasets, linear_model, preprocessing\n",
    "import statsmodels.api as sm\n",
    "from sklearn.metrics import mean_squared_error, r2_score\n",
    "from sklearn.model_selection import train_test_split\n",
    "from sklearn.preprocessing import StandardScaler\n",
    "\n",
    "\n"
   ]
  },
  {
   "cell_type": "markdown",
   "metadata": {},
   "source": [
    "Leitura dos CSVs a partir das colunas importantes retiradas do dicionario:"
   ]
  },
  {
   "cell_type": "code",
   "execution_count": 2,
   "metadata": {},
   "outputs": [],
   "source": [
    "colunas_treino=['CO_UF_RESIDENCIA', 'NU_IDADE', 'TP_SEXO', 'TP_ESTADO_CIVIL',\n",
    "       'TP_COR_RACA', 'TP_NACIONALIDADE', 'CO_UF_NASCIMENTO',\n",
    "       'TP_ST_CONCLUSAO', 'TP_ANO_CONCLUIU', 'TP_ESCOLA', 'TP_ENSINO',\n",
    "       'IN_TREINEIRO', 'CO_UF_ESC', 'TP_DEPENDENCIA_ADM_ESC',\n",
    "       'TP_LOCALIZACAO_ESC', 'TP_SIT_FUNC_ESC', 'IN_BAIXA_VISAO',\n",
    "       'IN_CEGUEIRA', 'IN_SURDEZ', 'IN_DEFICIENCIA_AUDITIVA',\n",
    "       'IN_SURDO_CEGUEIRA', 'IN_DEFICIENCIA_FISICA', 'IN_DEFICIENCIA_MENTAL',\n",
    "       'IN_DEFICIT_ATENCAO', 'IN_DISLEXIA', 'IN_DISCALCULIA', 'IN_AUTISMO',\n",
    "       'IN_VISAO_MONOCULAR', 'IN_OUTRA_DEF', 'IN_GESTANTE', 'IN_LACTANTE',\n",
    "       'IN_IDOSO', 'IN_ESTUDA_CLASSE_HOSPITALAR', 'IN_SEM_RECURSO',\n",
    "       'IN_BRAILLE', 'IN_AMPLIADA_24', 'IN_AMPLIADA_18', 'IN_LEDOR',\n",
    "       'IN_ACESSO', 'IN_TRANSCRICAO', 'IN_LIBRAS', 'IN_TEMPO_ADICIONAL',\n",
    "       'IN_LEITURA_LABIAL', 'IN_MESA_CADEIRA_RODAS',\n",
    "       'IN_MESA_CADEIRA_SEPARADA', 'IN_APOIO_PERNA', 'IN_GUIA_INTERPRETE',\n",
    "       'IN_COMPUTADOR', 'IN_CADEIRA_ESPECIAL', 'IN_CADEIRA_CANHOTO',\n",
    "       'IN_CADEIRA_ACOLCHOADA', 'IN_PROVA_DEITADO', 'IN_MOBILIARIO_OBESO',\n",
    "       'IN_LAMINA_OVERLAY', 'IN_PROTETOR_AURICULAR', 'IN_MEDIDOR_GLICOSE',\n",
    "       'IN_MAQUINA_BRAILE', 'IN_SOROBAN', 'IN_MARCA_PASSO', 'IN_SONDA',\n",
    "       'IN_MEDICAMENTOS', 'IN_SALA_INDIVIDUAL', 'IN_SALA_ESPECIAL',\n",
    "       'IN_SALA_ACOMPANHANTE', 'IN_MOBILIARIO_ESPECIFICO',\n",
    "       'IN_MATERIAL_ESPECIFICO', 'IN_NOME_SOCIAL', 'CO_MUNICIPIO_PROVA',\n",
    "       'CO_UF_PROVA', 'TP_PRESENCA_CN', 'TP_PRESENCA_CH', 'TP_PRESENCA_LC',\n",
    "       'TP_PRESENCA_MT', 'NU_NOTA_CN', 'NU_NOTA_CH', 'NU_NOTA_LC',\n",
    "       'NU_NOTA_MT', 'TP_LINGUA', 'TP_STATUS_REDACAO', 'NU_NOTA_REDACAO']"
   ]
  },
  {
   "cell_type": "code",
   "execution_count": 3,
   "metadata": {},
   "outputs": [],
   "source": [
    "colunas_teste=['NU_INSCRICAO','CO_UF_RESIDENCIA', 'NU_IDADE', 'TP_SEXO', 'TP_ESTADO_CIVIL',\n",
    "       'TP_COR_RACA', 'TP_NACIONALIDADE', 'CO_UF_NASCIMENTO',\n",
    "       'TP_ST_CONCLUSAO', 'TP_ANO_CONCLUIU', 'TP_ESCOLA', 'TP_ENSINO',\n",
    "       'IN_TREINEIRO', 'CO_UF_ESC', 'TP_DEPENDENCIA_ADM_ESC',\n",
    "       'TP_LOCALIZACAO_ESC', 'TP_SIT_FUNC_ESC', 'IN_BAIXA_VISAO',\n",
    "       'IN_CEGUEIRA', 'IN_SURDEZ', 'IN_DEFICIENCIA_AUDITIVA',\n",
    "       'IN_SURDO_CEGUEIRA', 'IN_DEFICIENCIA_FISICA', 'IN_DEFICIENCIA_MENTAL',\n",
    "       'IN_DEFICIT_ATENCAO', 'IN_DISLEXIA', 'IN_DISCALCULIA', 'IN_AUTISMO',\n",
    "       'IN_VISAO_MONOCULAR', 'IN_OUTRA_DEF', 'IN_GESTANTE', 'IN_LACTANTE',\n",
    "       'IN_IDOSO', 'IN_ESTUDA_CLASSE_HOSPITALAR', 'IN_SEM_RECURSO',\n",
    "       'IN_BRAILLE', 'IN_AMPLIADA_24', 'IN_AMPLIADA_18', 'IN_LEDOR',\n",
    "       'IN_ACESSO', 'IN_TRANSCRICAO', 'IN_LIBRAS', 'IN_TEMPO_ADICIONAL',\n",
    "       'IN_LEITURA_LABIAL', 'IN_MESA_CADEIRA_RODAS',\n",
    "       'IN_MESA_CADEIRA_SEPARADA', 'IN_APOIO_PERNA', 'IN_GUIA_INTERPRETE',\n",
    "       'IN_COMPUTADOR', 'IN_CADEIRA_ESPECIAL', 'IN_CADEIRA_CANHOTO',\n",
    "       'IN_CADEIRA_ACOLCHOADA', 'IN_PROVA_DEITADO', 'IN_MOBILIARIO_OBESO',\n",
    "       'IN_LAMINA_OVERLAY', 'IN_PROTETOR_AURICULAR', 'IN_MEDIDOR_GLICOSE',\n",
    "       'IN_MAQUINA_BRAILE', 'IN_SOROBAN', 'IN_MARCA_PASSO', 'IN_SONDA',\n",
    "       'IN_MEDICAMENTOS', 'IN_SALA_INDIVIDUAL', 'IN_SALA_ESPECIAL',\n",
    "       'IN_SALA_ACOMPANHANTE', 'IN_MOBILIARIO_ESPECIFICO',\n",
    "       'IN_MATERIAL_ESPECIFICO', 'IN_NOME_SOCIAL', 'CO_MUNICIPIO_PROVA',\n",
    "       'CO_UF_PROVA', 'TP_PRESENCA_CN', 'TP_PRESENCA_CH', 'TP_PRESENCA_LC',\n",
    "       'TP_PRESENCA_MT','TP_LINGUA', 'TP_STATUS_REDACAO']"
   ]
  },
  {
   "cell_type": "code",
   "execution_count": 4,
   "metadata": {
    "colab": {
     "base_uri": "https://localhost:8080/",
     "height": 560
    },
    "id": "OAueIUjtN5Sw",
    "outputId": "3d7970e2-130c-4170-c762-2be8012eb73b"
   },
   "outputs": [
    {
     "name": "stdout",
     "output_type": "stream",
     "text": [
      "<class 'pandas.core.frame.DataFrame'>\n",
      "RangeIndex: 1783345 entries, 0 to 1783344\n",
      "Data columns (total 76 columns):\n",
      " #   Column                       Dtype  \n",
      "---  ------                       -----  \n",
      " 0   NU_INSCRICAO                 object \n",
      " 1   CO_UF_RESIDENCIA             int64  \n",
      " 2   NU_IDADE                     float64\n",
      " 3   TP_SEXO                      object \n",
      " 4   TP_ESTADO_CIVIL              int64  \n",
      " 5   TP_COR_RACA                  int64  \n",
      " 6   TP_NACIONALIDADE             int64  \n",
      " 7   CO_UF_NASCIMENTO             float64\n",
      " 8   TP_ST_CONCLUSAO              int64  \n",
      " 9   TP_ANO_CONCLUIU              int64  \n",
      " 10  TP_ESCOLA                    int64  \n",
      " 11  TP_ENSINO                    float64\n",
      " 12  IN_TREINEIRO                 int64  \n",
      " 13  CO_UF_ESC                    float64\n",
      " 14  TP_DEPENDENCIA_ADM_ESC       float64\n",
      " 15  TP_LOCALIZACAO_ESC           float64\n",
      " 16  TP_SIT_FUNC_ESC              float64\n",
      " 17  IN_BAIXA_VISAO               int64  \n",
      " 18  IN_CEGUEIRA                  int64  \n",
      " 19  IN_SURDEZ                    int64  \n",
      " 20  IN_DEFICIENCIA_AUDITIVA      int64  \n",
      " 21  IN_SURDO_CEGUEIRA            int64  \n",
      " 22  IN_DEFICIENCIA_FISICA        int64  \n",
      " 23  IN_DEFICIENCIA_MENTAL        int64  \n",
      " 24  IN_DEFICIT_ATENCAO           int64  \n",
      " 25  IN_DISLEXIA                  int64  \n",
      " 26  IN_DISCALCULIA               int64  \n",
      " 27  IN_AUTISMO                   int64  \n",
      " 28  IN_VISAO_MONOCULAR           int64  \n",
      " 29  IN_OUTRA_DEF                 int64  \n",
      " 30  IN_GESTANTE                  int64  \n",
      " 31  IN_LACTANTE                  int64  \n",
      " 32  IN_IDOSO                     int64  \n",
      " 33  IN_ESTUDA_CLASSE_HOSPITALAR  int64  \n",
      " 34  IN_SEM_RECURSO               int64  \n",
      " 35  IN_BRAILLE                   int64  \n",
      " 36  IN_AMPLIADA_24               int64  \n",
      " 37  IN_AMPLIADA_18               int64  \n",
      " 38  IN_LEDOR                     int64  \n",
      " 39  IN_ACESSO                    int64  \n",
      " 40  IN_TRANSCRICAO               int64  \n",
      " 41  IN_LIBRAS                    int64  \n",
      " 42  IN_TEMPO_ADICIONAL           int64  \n",
      " 43  IN_LEITURA_LABIAL            int64  \n",
      " 44  IN_MESA_CADEIRA_RODAS        int64  \n",
      " 45  IN_MESA_CADEIRA_SEPARADA     int64  \n",
      " 46  IN_APOIO_PERNA               int64  \n",
      " 47  IN_GUIA_INTERPRETE           int64  \n",
      " 48  IN_COMPUTADOR                int64  \n",
      " 49  IN_CADEIRA_ESPECIAL          int64  \n",
      " 50  IN_CADEIRA_CANHOTO           int64  \n",
      " 51  IN_CADEIRA_ACOLCHOADA        int64  \n",
      " 52  IN_PROVA_DEITADO             int64  \n",
      " 53  IN_MOBILIARIO_OBESO          int64  \n",
      " 54  IN_LAMINA_OVERLAY            int64  \n",
      " 55  IN_PROTETOR_AURICULAR        int64  \n",
      " 56  IN_MEDIDOR_GLICOSE           int64  \n",
      " 57  IN_MAQUINA_BRAILE            int64  \n",
      " 58  IN_SOROBAN                   int64  \n",
      " 59  IN_MARCA_PASSO               int64  \n",
      " 60  IN_SONDA                     int64  \n",
      " 61  IN_MEDICAMENTOS              int64  \n",
      " 62  IN_SALA_INDIVIDUAL           int64  \n",
      " 63  IN_SALA_ESPECIAL             int64  \n",
      " 64  IN_SALA_ACOMPANHANTE         int64  \n",
      " 65  IN_MOBILIARIO_ESPECIFICO     int64  \n",
      " 66  IN_MATERIAL_ESPECIFICO       int64  \n",
      " 67  IN_NOME_SOCIAL               int64  \n",
      " 68  CO_MUNICIPIO_PROVA           int64  \n",
      " 69  CO_UF_PROVA                  int64  \n",
      " 70  TP_PRESENCA_CN               int64  \n",
      " 71  TP_PRESENCA_CH               int64  \n",
      " 72  TP_PRESENCA_LC               int64  \n",
      " 73  TP_PRESENCA_MT               int64  \n",
      " 74  TP_LINGUA                    int64  \n",
      " 75  TP_STATUS_REDACAO            float64\n",
      "dtypes: float64(8), int64(66), object(2)\n",
      "memory usage: 1.2 GB\n"
     ]
    }
   ],
   "source": [
    "test = pd.read_csv(\"test.csv\", usecols=colunas_teste)\n",
    "test.info(memory_usage=\"deep\")"
   ]
  },
  {
   "cell_type": "code",
   "execution_count": 5,
   "metadata": {},
   "outputs": [
    {
     "name": "stdout",
     "output_type": "stream",
     "text": [
      "<class 'pandas.core.frame.DataFrame'>\n",
      "RangeIndex: 3311925 entries, 0 to 3311924\n",
      "Data columns (total 80 columns):\n",
      " #   Column                       Dtype  \n",
      "---  ------                       -----  \n",
      " 0   CO_UF_RESIDENCIA             int64  \n",
      " 1   NU_IDADE                     float64\n",
      " 2   TP_SEXO                      object \n",
      " 3   TP_ESTADO_CIVIL              int64  \n",
      " 4   TP_COR_RACA                  int64  \n",
      " 5   TP_NACIONALIDADE             int64  \n",
      " 6   CO_UF_NASCIMENTO             float64\n",
      " 7   TP_ST_CONCLUSAO              int64  \n",
      " 8   TP_ANO_CONCLUIU              int64  \n",
      " 9   TP_ESCOLA                    int64  \n",
      " 10  TP_ENSINO                    float64\n",
      " 11  IN_TREINEIRO                 int64  \n",
      " 12  CO_UF_ESC                    float64\n",
      " 13  TP_DEPENDENCIA_ADM_ESC       float64\n",
      " 14  TP_LOCALIZACAO_ESC           float64\n",
      " 15  TP_SIT_FUNC_ESC              float64\n",
      " 16  IN_BAIXA_VISAO               int64  \n",
      " 17  IN_CEGUEIRA                  int64  \n",
      " 18  IN_SURDEZ                    int64  \n",
      " 19  IN_DEFICIENCIA_AUDITIVA      int64  \n",
      " 20  IN_SURDO_CEGUEIRA            int64  \n",
      " 21  IN_DEFICIENCIA_FISICA        int64  \n",
      " 22  IN_DEFICIENCIA_MENTAL        int64  \n",
      " 23  IN_DEFICIT_ATENCAO           int64  \n",
      " 24  IN_DISLEXIA                  int64  \n",
      " 25  IN_DISCALCULIA               int64  \n",
      " 26  IN_AUTISMO                   int64  \n",
      " 27  IN_VISAO_MONOCULAR           int64  \n",
      " 28  IN_OUTRA_DEF                 int64  \n",
      " 29  IN_GESTANTE                  int64  \n",
      " 30  IN_LACTANTE                  int64  \n",
      " 31  IN_IDOSO                     int64  \n",
      " 32  IN_ESTUDA_CLASSE_HOSPITALAR  int64  \n",
      " 33  IN_SEM_RECURSO               int64  \n",
      " 34  IN_BRAILLE                   int64  \n",
      " 35  IN_AMPLIADA_24               int64  \n",
      " 36  IN_AMPLIADA_18               int64  \n",
      " 37  IN_LEDOR                     int64  \n",
      " 38  IN_ACESSO                    int64  \n",
      " 39  IN_TRANSCRICAO               int64  \n",
      " 40  IN_LIBRAS                    int64  \n",
      " 41  IN_TEMPO_ADICIONAL           int64  \n",
      " 42  IN_LEITURA_LABIAL            int64  \n",
      " 43  IN_MESA_CADEIRA_RODAS        int64  \n",
      " 44  IN_MESA_CADEIRA_SEPARADA     int64  \n",
      " 45  IN_APOIO_PERNA               int64  \n",
      " 46  IN_GUIA_INTERPRETE           int64  \n",
      " 47  IN_COMPUTADOR                int64  \n",
      " 48  IN_CADEIRA_ESPECIAL          int64  \n",
      " 49  IN_CADEIRA_CANHOTO           int64  \n",
      " 50  IN_CADEIRA_ACOLCHOADA        int64  \n",
      " 51  IN_PROVA_DEITADO             int64  \n",
      " 52  IN_MOBILIARIO_OBESO          int64  \n",
      " 53  IN_LAMINA_OVERLAY            int64  \n",
      " 54  IN_PROTETOR_AURICULAR        int64  \n",
      " 55  IN_MEDIDOR_GLICOSE           int64  \n",
      " 56  IN_MAQUINA_BRAILE            int64  \n",
      " 57  IN_SOROBAN                   int64  \n",
      " 58  IN_MARCA_PASSO               int64  \n",
      " 59  IN_SONDA                     int64  \n",
      " 60  IN_MEDICAMENTOS              int64  \n",
      " 61  IN_SALA_INDIVIDUAL           int64  \n",
      " 62  IN_SALA_ESPECIAL             int64  \n",
      " 63  IN_SALA_ACOMPANHANTE         int64  \n",
      " 64  IN_MOBILIARIO_ESPECIFICO     int64  \n",
      " 65  IN_MATERIAL_ESPECIFICO       int64  \n",
      " 66  IN_NOME_SOCIAL               int64  \n",
      " 67  CO_MUNICIPIO_PROVA           int64  \n",
      " 68  CO_UF_PROVA                  int64  \n",
      " 69  TP_PRESENCA_CN               int64  \n",
      " 70  TP_PRESENCA_CH               int64  \n",
      " 71  TP_PRESENCA_LC               int64  \n",
      " 72  TP_PRESENCA_MT               int64  \n",
      " 73  NU_NOTA_CN                   float64\n",
      " 74  NU_NOTA_CH                   float64\n",
      " 75  NU_NOTA_LC                   float64\n",
      " 76  NU_NOTA_MT                   float64\n",
      " 77  TP_LINGUA                    int64  \n",
      " 78  TP_STATUS_REDACAO            float64\n",
      " 79  NU_NOTA_REDACAO              float64\n",
      "dtypes: float64(13), int64(66), object(1)\n",
      "memory usage: 2.1 GB\n"
     ]
    }
   ],
   "source": [
    "train = pd.read_csv(\"train.csv\", usecols=colunas_treino)\n",
    "train.info(memory_usage=\"deep\")"
   ]
  },
  {
   "cell_type": "code",
   "execution_count": 6,
   "metadata": {},
   "outputs": [
    {
     "data": {
      "text/html": [
       "<div>\n",
       "<style scoped>\n",
       "    .dataframe tbody tr th:only-of-type {\n",
       "        vertical-align: middle;\n",
       "    }\n",
       "\n",
       "    .dataframe tbody tr th {\n",
       "        vertical-align: top;\n",
       "    }\n",
       "\n",
       "    .dataframe thead th {\n",
       "        text-align: right;\n",
       "    }\n",
       "</style>\n",
       "<table border=\"1\" class=\"dataframe\">\n",
       "  <thead>\n",
       "    <tr style=\"text-align: right;\">\n",
       "      <th></th>\n",
       "      <th>CO_UF_RESIDENCIA</th>\n",
       "      <th>NU_IDADE</th>\n",
       "      <th>TP_SEXO</th>\n",
       "      <th>TP_ESTADO_CIVIL</th>\n",
       "      <th>TP_COR_RACA</th>\n",
       "      <th>TP_NACIONALIDADE</th>\n",
       "      <th>CO_UF_NASCIMENTO</th>\n",
       "      <th>TP_ST_CONCLUSAO</th>\n",
       "      <th>TP_ANO_CONCLUIU</th>\n",
       "      <th>TP_ESCOLA</th>\n",
       "      <th>...</th>\n",
       "      <th>TP_PRESENCA_CH</th>\n",
       "      <th>TP_PRESENCA_LC</th>\n",
       "      <th>TP_PRESENCA_MT</th>\n",
       "      <th>NU_NOTA_CN</th>\n",
       "      <th>NU_NOTA_CH</th>\n",
       "      <th>NU_NOTA_LC</th>\n",
       "      <th>NU_NOTA_MT</th>\n",
       "      <th>TP_LINGUA</th>\n",
       "      <th>TP_STATUS_REDACAO</th>\n",
       "      <th>NU_NOTA_REDACAO</th>\n",
       "    </tr>\n",
       "  </thead>\n",
       "  <tbody>\n",
       "    <tr>\n",
       "      <th>0</th>\n",
       "      <td>11</td>\n",
       "      <td>31.0</td>\n",
       "      <td>F</td>\n",
       "      <td>0</td>\n",
       "      <td>1</td>\n",
       "      <td>1</td>\n",
       "      <td>32.0</td>\n",
       "      <td>1</td>\n",
       "      <td>10</td>\n",
       "      <td>1</td>\n",
       "      <td>...</td>\n",
       "      <td>1</td>\n",
       "      <td>1</td>\n",
       "      <td>1</td>\n",
       "      <td>426.5</td>\n",
       "      <td>487.4</td>\n",
       "      <td>530.9</td>\n",
       "      <td>415.3</td>\n",
       "      <td>1</td>\n",
       "      <td>1.0</td>\n",
       "      <td>680.0</td>\n",
       "    </tr>\n",
       "    <tr>\n",
       "      <th>1</th>\n",
       "      <td>31</td>\n",
       "      <td>23.0</td>\n",
       "      <td>F</td>\n",
       "      <td>1</td>\n",
       "      <td>3</td>\n",
       "      <td>1</td>\n",
       "      <td>31.0</td>\n",
       "      <td>1</td>\n",
       "      <td>3</td>\n",
       "      <td>1</td>\n",
       "      <td>...</td>\n",
       "      <td>1</td>\n",
       "      <td>1</td>\n",
       "      <td>1</td>\n",
       "      <td>463.0</td>\n",
       "      <td>452.3</td>\n",
       "      <td>456.6</td>\n",
       "      <td>407.2</td>\n",
       "      <td>0</td>\n",
       "      <td>1.0</td>\n",
       "      <td>520.0</td>\n",
       "    </tr>\n",
       "    <tr>\n",
       "      <th>2</th>\n",
       "      <td>31</td>\n",
       "      <td>17.0</td>\n",
       "      <td>M</td>\n",
       "      <td>0</td>\n",
       "      <td>3</td>\n",
       "      <td>1</td>\n",
       "      <td>31.0</td>\n",
       "      <td>2</td>\n",
       "      <td>0</td>\n",
       "      <td>2</td>\n",
       "      <td>...</td>\n",
       "      <td>1</td>\n",
       "      <td>1</td>\n",
       "      <td>1</td>\n",
       "      <td>381.7</td>\n",
       "      <td>474.4</td>\n",
       "      <td>530.6</td>\n",
       "      <td>622.8</td>\n",
       "      <td>0</td>\n",
       "      <td>1.0</td>\n",
       "      <td>600.0</td>\n",
       "    </tr>\n",
       "    <tr>\n",
       "      <th>3</th>\n",
       "      <td>25</td>\n",
       "      <td>16.0</td>\n",
       "      <td>M</td>\n",
       "      <td>1</td>\n",
       "      <td>1</td>\n",
       "      <td>1</td>\n",
       "      <td>25.0</td>\n",
       "      <td>3</td>\n",
       "      <td>0</td>\n",
       "      <td>1</td>\n",
       "      <td>...</td>\n",
       "      <td>1</td>\n",
       "      <td>1</td>\n",
       "      <td>1</td>\n",
       "      <td>426.7</td>\n",
       "      <td>343.9</td>\n",
       "      <td>444.2</td>\n",
       "      <td>507.0</td>\n",
       "      <td>1</td>\n",
       "      <td>1.0</td>\n",
       "      <td>660.0</td>\n",
       "    </tr>\n",
       "    <tr>\n",
       "      <th>4</th>\n",
       "      <td>23</td>\n",
       "      <td>19.0</td>\n",
       "      <td>M</td>\n",
       "      <td>1</td>\n",
       "      <td>1</td>\n",
       "      <td>1</td>\n",
       "      <td>23.0</td>\n",
       "      <td>1</td>\n",
       "      <td>1</td>\n",
       "      <td>1</td>\n",
       "      <td>...</td>\n",
       "      <td>1</td>\n",
       "      <td>1</td>\n",
       "      <td>1</td>\n",
       "      <td>623.7</td>\n",
       "      <td>609.1</td>\n",
       "      <td>637.1</td>\n",
       "      <td>805.3</td>\n",
       "      <td>0</td>\n",
       "      <td>1.0</td>\n",
       "      <td>840.0</td>\n",
       "    </tr>\n",
       "  </tbody>\n",
       "</table>\n",
       "<p>5 rows × 80 columns</p>\n",
       "</div>"
      ],
      "text/plain": [
       "   CO_UF_RESIDENCIA  NU_IDADE TP_SEXO  TP_ESTADO_CIVIL  TP_COR_RACA  \\\n",
       "0                11      31.0       F                0            1   \n",
       "1                31      23.0       F                1            3   \n",
       "2                31      17.0       M                0            3   \n",
       "3                25      16.0       M                1            1   \n",
       "4                23      19.0       M                1            1   \n",
       "\n",
       "   TP_NACIONALIDADE  CO_UF_NASCIMENTO  TP_ST_CONCLUSAO  TP_ANO_CONCLUIU  \\\n",
       "0                 1              32.0                1               10   \n",
       "1                 1              31.0                1                3   \n",
       "2                 1              31.0                2                0   \n",
       "3                 1              25.0                3                0   \n",
       "4                 1              23.0                1                1   \n",
       "\n",
       "   TP_ESCOLA  ...  TP_PRESENCA_CH  TP_PRESENCA_LC  TP_PRESENCA_MT  NU_NOTA_CN  \\\n",
       "0          1  ...               1               1               1       426.5   \n",
       "1          1  ...               1               1               1       463.0   \n",
       "2          2  ...               1               1               1       381.7   \n",
       "3          1  ...               1               1               1       426.7   \n",
       "4          1  ...               1               1               1       623.7   \n",
       "\n",
       "   NU_NOTA_CH  NU_NOTA_LC  NU_NOTA_MT  TP_LINGUA  TP_STATUS_REDACAO  \\\n",
       "0       487.4       530.9       415.3          1                1.0   \n",
       "1       452.3       456.6       407.2          0                1.0   \n",
       "2       474.4       530.6       622.8          0                1.0   \n",
       "3       343.9       444.2       507.0          1                1.0   \n",
       "4       609.1       637.1       805.3          0                1.0   \n",
       "\n",
       "   NU_NOTA_REDACAO  \n",
       "0            680.0  \n",
       "1            520.0  \n",
       "2            600.0  \n",
       "3            660.0  \n",
       "4            840.0  \n",
       "\n",
       "[5 rows x 80 columns]"
      ]
     },
     "execution_count": 6,
     "metadata": {},
     "output_type": "execute_result"
    }
   ],
   "source": [
    "train.head()"
   ]
  },
  {
   "cell_type": "code",
   "execution_count": 7,
   "metadata": {
    "scrolled": true
   },
   "outputs": [],
   "source": [
    "train = pd.concat([train, pd.get_dummies(train['TP_SEXO'], drop_first=True)], axis=1)\n",
    "train = train.drop(columns=['TP_SEXO'])\n"
   ]
  },
  {
   "cell_type": "code",
   "execution_count": 8,
   "metadata": {},
   "outputs": [],
   "source": [
    "test = pd.concat([test, pd.get_dummies(test['TP_SEXO'], drop_first=True)], axis=1)\n",
    "test = test.drop(columns=['TP_SEXO'])"
   ]
  },
  {
   "cell_type": "code",
   "execution_count": 9,
   "metadata": {},
   "outputs": [
    {
     "data": {
      "text/html": [
       "<div>\n",
       "<style scoped>\n",
       "    .dataframe tbody tr th:only-of-type {\n",
       "        vertical-align: middle;\n",
       "    }\n",
       "\n",
       "    .dataframe tbody tr th {\n",
       "        vertical-align: top;\n",
       "    }\n",
       "\n",
       "    .dataframe thead th {\n",
       "        text-align: right;\n",
       "    }\n",
       "</style>\n",
       "<table border=\"1\" class=\"dataframe\">\n",
       "  <thead>\n",
       "    <tr style=\"text-align: right;\">\n",
       "      <th></th>\n",
       "      <th>CO_UF_RESIDENCIA</th>\n",
       "      <th>NU_IDADE</th>\n",
       "      <th>TP_ESTADO_CIVIL</th>\n",
       "      <th>TP_COR_RACA</th>\n",
       "      <th>TP_NACIONALIDADE</th>\n",
       "      <th>CO_UF_NASCIMENTO</th>\n",
       "      <th>TP_ST_CONCLUSAO</th>\n",
       "      <th>TP_ANO_CONCLUIU</th>\n",
       "      <th>TP_ESCOLA</th>\n",
       "      <th>TP_ENSINO</th>\n",
       "      <th>...</th>\n",
       "      <th>TP_PRESENCA_LC</th>\n",
       "      <th>TP_PRESENCA_MT</th>\n",
       "      <th>NU_NOTA_CN</th>\n",
       "      <th>NU_NOTA_CH</th>\n",
       "      <th>NU_NOTA_LC</th>\n",
       "      <th>NU_NOTA_MT</th>\n",
       "      <th>TP_LINGUA</th>\n",
       "      <th>TP_STATUS_REDACAO</th>\n",
       "      <th>NU_NOTA_REDACAO</th>\n",
       "      <th>M</th>\n",
       "    </tr>\n",
       "  </thead>\n",
       "  <tbody>\n",
       "    <tr>\n",
       "      <th>0</th>\n",
       "      <td>11</td>\n",
       "      <td>31.0</td>\n",
       "      <td>0</td>\n",
       "      <td>1</td>\n",
       "      <td>1</td>\n",
       "      <td>32.0</td>\n",
       "      <td>1</td>\n",
       "      <td>10</td>\n",
       "      <td>1</td>\n",
       "      <td>1.0</td>\n",
       "      <td>...</td>\n",
       "      <td>1</td>\n",
       "      <td>1</td>\n",
       "      <td>426.5</td>\n",
       "      <td>487.4</td>\n",
       "      <td>530.9</td>\n",
       "      <td>415.3</td>\n",
       "      <td>1</td>\n",
       "      <td>1.0</td>\n",
       "      <td>680.0</td>\n",
       "      <td>0</td>\n",
       "    </tr>\n",
       "    <tr>\n",
       "      <th>1</th>\n",
       "      <td>31</td>\n",
       "      <td>23.0</td>\n",
       "      <td>1</td>\n",
       "      <td>3</td>\n",
       "      <td>1</td>\n",
       "      <td>31.0</td>\n",
       "      <td>1</td>\n",
       "      <td>3</td>\n",
       "      <td>1</td>\n",
       "      <td>NaN</td>\n",
       "      <td>...</td>\n",
       "      <td>1</td>\n",
       "      <td>1</td>\n",
       "      <td>463.0</td>\n",
       "      <td>452.3</td>\n",
       "      <td>456.6</td>\n",
       "      <td>407.2</td>\n",
       "      <td>0</td>\n",
       "      <td>1.0</td>\n",
       "      <td>520.0</td>\n",
       "      <td>0</td>\n",
       "    </tr>\n",
       "    <tr>\n",
       "      <th>2</th>\n",
       "      <td>31</td>\n",
       "      <td>17.0</td>\n",
       "      <td>0</td>\n",
       "      <td>3</td>\n",
       "      <td>1</td>\n",
       "      <td>31.0</td>\n",
       "      <td>2</td>\n",
       "      <td>0</td>\n",
       "      <td>2</td>\n",
       "      <td>1.0</td>\n",
       "      <td>...</td>\n",
       "      <td>1</td>\n",
       "      <td>1</td>\n",
       "      <td>381.7</td>\n",
       "      <td>474.4</td>\n",
       "      <td>530.6</td>\n",
       "      <td>622.8</td>\n",
       "      <td>0</td>\n",
       "      <td>1.0</td>\n",
       "      <td>600.0</td>\n",
       "      <td>1</td>\n",
       "    </tr>\n",
       "    <tr>\n",
       "      <th>3</th>\n",
       "      <td>25</td>\n",
       "      <td>16.0</td>\n",
       "      <td>1</td>\n",
       "      <td>1</td>\n",
       "      <td>1</td>\n",
       "      <td>25.0</td>\n",
       "      <td>3</td>\n",
       "      <td>0</td>\n",
       "      <td>1</td>\n",
       "      <td>NaN</td>\n",
       "      <td>...</td>\n",
       "      <td>1</td>\n",
       "      <td>1</td>\n",
       "      <td>426.7</td>\n",
       "      <td>343.9</td>\n",
       "      <td>444.2</td>\n",
       "      <td>507.0</td>\n",
       "      <td>1</td>\n",
       "      <td>1.0</td>\n",
       "      <td>660.0</td>\n",
       "      <td>1</td>\n",
       "    </tr>\n",
       "    <tr>\n",
       "      <th>4</th>\n",
       "      <td>23</td>\n",
       "      <td>19.0</td>\n",
       "      <td>1</td>\n",
       "      <td>1</td>\n",
       "      <td>1</td>\n",
       "      <td>23.0</td>\n",
       "      <td>1</td>\n",
       "      <td>1</td>\n",
       "      <td>1</td>\n",
       "      <td>NaN</td>\n",
       "      <td>...</td>\n",
       "      <td>1</td>\n",
       "      <td>1</td>\n",
       "      <td>623.7</td>\n",
       "      <td>609.1</td>\n",
       "      <td>637.1</td>\n",
       "      <td>805.3</td>\n",
       "      <td>0</td>\n",
       "      <td>1.0</td>\n",
       "      <td>840.0</td>\n",
       "      <td>1</td>\n",
       "    </tr>\n",
       "  </tbody>\n",
       "</table>\n",
       "<p>5 rows × 80 columns</p>\n",
       "</div>"
      ],
      "text/plain": [
       "   CO_UF_RESIDENCIA  NU_IDADE  TP_ESTADO_CIVIL  TP_COR_RACA  TP_NACIONALIDADE  \\\n",
       "0                11      31.0                0            1                 1   \n",
       "1                31      23.0                1            3                 1   \n",
       "2                31      17.0                0            3                 1   \n",
       "3                25      16.0                1            1                 1   \n",
       "4                23      19.0                1            1                 1   \n",
       "\n",
       "   CO_UF_NASCIMENTO  TP_ST_CONCLUSAO  TP_ANO_CONCLUIU  TP_ESCOLA  TP_ENSINO  \\\n",
       "0              32.0                1               10          1        1.0   \n",
       "1              31.0                1                3          1        NaN   \n",
       "2              31.0                2                0          2        1.0   \n",
       "3              25.0                3                0          1        NaN   \n",
       "4              23.0                1                1          1        NaN   \n",
       "\n",
       "   ...  TP_PRESENCA_LC  TP_PRESENCA_MT  NU_NOTA_CN  NU_NOTA_CH  NU_NOTA_LC  \\\n",
       "0  ...               1               1       426.5       487.4       530.9   \n",
       "1  ...               1               1       463.0       452.3       456.6   \n",
       "2  ...               1               1       381.7       474.4       530.6   \n",
       "3  ...               1               1       426.7       343.9       444.2   \n",
       "4  ...               1               1       623.7       609.1       637.1   \n",
       "\n",
       "   NU_NOTA_MT  TP_LINGUA  TP_STATUS_REDACAO  NU_NOTA_REDACAO  M  \n",
       "0       415.3          1                1.0            680.0  0  \n",
       "1       407.2          0                1.0            520.0  0  \n",
       "2       622.8          0                1.0            600.0  1  \n",
       "3       507.0          1                1.0            660.0  1  \n",
       "4       805.3          0                1.0            840.0  1  \n",
       "\n",
       "[5 rows x 80 columns]"
      ]
     },
     "execution_count": 9,
     "metadata": {},
     "output_type": "execute_result"
    }
   ],
   "source": [
    "train.head()"
   ]
  },
  {
   "cell_type": "markdown",
   "metadata": {},
   "source": [
    "# Trabalhando os NaNs do dataset de treino:"
   ]
  },
  {
   "cell_type": "markdown",
   "metadata": {},
   "source": [
    "Podemos observar as 10 colunas com mais dados faltantes."
   ]
  },
  {
   "cell_type": "code",
   "execution_count": 10,
   "metadata": {},
   "outputs": [
    {
     "data": {
      "text/html": [
       "<div>\n",
       "<style scoped>\n",
       "    .dataframe tbody tr th:only-of-type {\n",
       "        vertical-align: middle;\n",
       "    }\n",
       "\n",
       "    .dataframe tbody tr th {\n",
       "        vertical-align: top;\n",
       "    }\n",
       "\n",
       "    .dataframe thead th {\n",
       "        text-align: right;\n",
       "    }\n",
       "</style>\n",
       "<table border=\"1\" class=\"dataframe\">\n",
       "  <thead>\n",
       "    <tr style=\"text-align: right;\">\n",
       "      <th></th>\n",
       "      <th>index</th>\n",
       "      <th>Dados faltantes</th>\n",
       "    </tr>\n",
       "  </thead>\n",
       "  <tbody>\n",
       "    <tr>\n",
       "      <th>13</th>\n",
       "      <td>TP_LOCALIZACAO_ESC</td>\n",
       "      <td>0.774941</td>\n",
       "    </tr>\n",
       "    <tr>\n",
       "      <th>11</th>\n",
       "      <td>CO_UF_ESC</td>\n",
       "      <td>0.774941</td>\n",
       "    </tr>\n",
       "    <tr>\n",
       "      <th>14</th>\n",
       "      <td>TP_SIT_FUNC_ESC</td>\n",
       "      <td>0.774941</td>\n",
       "    </tr>\n",
       "    <tr>\n",
       "      <th>12</th>\n",
       "      <td>TP_DEPENDENCIA_ADM_ESC</td>\n",
       "      <td>0.774941</td>\n",
       "    </tr>\n",
       "    <tr>\n",
       "      <th>9</th>\n",
       "      <td>TP_ENSINO</td>\n",
       "      <td>0.435267</td>\n",
       "    </tr>\n",
       "    <tr>\n",
       "      <th>75</th>\n",
       "      <td>NU_NOTA_MT</td>\n",
       "      <td>0.271985</td>\n",
       "    </tr>\n",
       "    <tr>\n",
       "      <th>72</th>\n",
       "      <td>NU_NOTA_CN</td>\n",
       "      <td>0.271985</td>\n",
       "    </tr>\n",
       "    <tr>\n",
       "      <th>77</th>\n",
       "      <td>TP_STATUS_REDACAO</td>\n",
       "      <td>0.230176</td>\n",
       "    </tr>\n",
       "    <tr>\n",
       "      <th>78</th>\n",
       "      <td>NU_NOTA_REDACAO</td>\n",
       "      <td>0.230176</td>\n",
       "    </tr>\n",
       "    <tr>\n",
       "      <th>74</th>\n",
       "      <td>NU_NOTA_LC</td>\n",
       "      <td>0.230175</td>\n",
       "    </tr>\n",
       "  </tbody>\n",
       "</table>\n",
       "</div>"
      ],
      "text/plain": [
       "                     index  Dados faltantes\n",
       "13      TP_LOCALIZACAO_ESC         0.774941\n",
       "11               CO_UF_ESC         0.774941\n",
       "14         TP_SIT_FUNC_ESC         0.774941\n",
       "12  TP_DEPENDENCIA_ADM_ESC         0.774941\n",
       "9                TP_ENSINO         0.435267\n",
       "75              NU_NOTA_MT         0.271985\n",
       "72              NU_NOTA_CN         0.271985\n",
       "77       TP_STATUS_REDACAO         0.230176\n",
       "78         NU_NOTA_REDACAO         0.230176\n",
       "74              NU_NOTA_LC         0.230175"
      ]
     },
     "execution_count": 10,
     "metadata": {},
     "output_type": "execute_result"
    }
   ],
   "source": [
    "train.isna().mean().reset_index(name=\"Dados faltantes\").sort_values(by=\"Dados faltantes\", ascending=False).head(10)"
   ]
  },
  {
   "cell_type": "code",
   "execution_count": 11,
   "metadata": {},
   "outputs": [
    {
     "data": {
      "text/plain": [
       "TP_ENSINO\n",
       "1.0    1861339\n",
       "2.0       9015\n",
       "dtype: int64"
      ]
     },
     "execution_count": 11,
     "metadata": {},
     "output_type": "execute_result"
    }
   ],
   "source": [
    "train.groupby(by='TP_ENSINO').size()"
   ]
  },
  {
   "cell_type": "markdown",
   "metadata": {},
   "source": [
    "Pelo dicionario, a coluna TP_Ensino apresenta valor 1 como \"não respondeu\", logo, a quantidade de dados faltantes é absurdamente maior do que 43% como visto anteriormente."
   ]
  },
  {
   "cell_type": "code",
   "execution_count": 12,
   "metadata": {},
   "outputs": [],
   "source": [
    "train=train.drop(columns=['CO_UF_ESC','TP_DEPENDENCIA_ADM_ESC','TP_SIT_FUNC_ESC','TP_LOCALIZACAO_ESC','TP_ENSINO'])\n",
    "test=test.drop(columns=['CO_UF_ESC','TP_DEPENDENCIA_ADM_ESC','TP_SIT_FUNC_ESC','TP_LOCALIZACAO_ESC','TP_ENSINO'])"
   ]
  },
  {
   "cell_type": "code",
   "execution_count": 13,
   "metadata": {},
   "outputs": [
    {
     "data": {
      "text/html": [
       "<div>\n",
       "<style scoped>\n",
       "    .dataframe tbody tr th:only-of-type {\n",
       "        vertical-align: middle;\n",
       "    }\n",
       "\n",
       "    .dataframe tbody tr th {\n",
       "        vertical-align: top;\n",
       "    }\n",
       "\n",
       "    .dataframe thead th {\n",
       "        text-align: right;\n",
       "    }\n",
       "</style>\n",
       "<table border=\"1\" class=\"dataframe\">\n",
       "  <thead>\n",
       "    <tr style=\"text-align: right;\">\n",
       "      <th></th>\n",
       "      <th>index</th>\n",
       "      <th>Dados faltantes</th>\n",
       "    </tr>\n",
       "  </thead>\n",
       "  <tbody>\n",
       "    <tr>\n",
       "      <th>70</th>\n",
       "      <td>NU_NOTA_MT</td>\n",
       "      <td>0.271985</td>\n",
       "    </tr>\n",
       "    <tr>\n",
       "      <th>67</th>\n",
       "      <td>NU_NOTA_CN</td>\n",
       "      <td>0.271985</td>\n",
       "    </tr>\n",
       "    <tr>\n",
       "      <th>73</th>\n",
       "      <td>NU_NOTA_REDACAO</td>\n",
       "      <td>0.230176</td>\n",
       "    </tr>\n",
       "    <tr>\n",
       "      <th>72</th>\n",
       "      <td>TP_STATUS_REDACAO</td>\n",
       "      <td>0.230176</td>\n",
       "    </tr>\n",
       "    <tr>\n",
       "      <th>69</th>\n",
       "      <td>NU_NOTA_LC</td>\n",
       "      <td>0.230175</td>\n",
       "    </tr>\n",
       "    <tr>\n",
       "      <th>68</th>\n",
       "      <td>NU_NOTA_CH</td>\n",
       "      <td>0.230175</td>\n",
       "    </tr>\n",
       "    <tr>\n",
       "      <th>5</th>\n",
       "      <td>CO_UF_NASCIMENTO</td>\n",
       "      <td>0.028552</td>\n",
       "    </tr>\n",
       "    <tr>\n",
       "      <th>1</th>\n",
       "      <td>NU_IDADE</td>\n",
       "      <td>0.000010</td>\n",
       "    </tr>\n",
       "    <tr>\n",
       "      <th>46</th>\n",
       "      <td>IN_MOBILIARIO_OBESO</td>\n",
       "      <td>0.000000</td>\n",
       "    </tr>\n",
       "    <tr>\n",
       "      <th>51</th>\n",
       "      <td>IN_SOROBAN</td>\n",
       "      <td>0.000000</td>\n",
       "    </tr>\n",
       "  </tbody>\n",
       "</table>\n",
       "</div>"
      ],
      "text/plain": [
       "                  index  Dados faltantes\n",
       "70           NU_NOTA_MT         0.271985\n",
       "67           NU_NOTA_CN         0.271985\n",
       "73      NU_NOTA_REDACAO         0.230176\n",
       "72    TP_STATUS_REDACAO         0.230176\n",
       "69           NU_NOTA_LC         0.230175\n",
       "68           NU_NOTA_CH         0.230175\n",
       "5      CO_UF_NASCIMENTO         0.028552\n",
       "1              NU_IDADE         0.000010\n",
       "46  IN_MOBILIARIO_OBESO         0.000000\n",
       "51           IN_SOROBAN         0.000000"
      ]
     },
     "execution_count": 13,
     "metadata": {},
     "output_type": "execute_result"
    }
   ],
   "source": [
    "train.isna().mean().reset_index(name=\"Dados faltantes\").sort_values(by=\"Dados faltantes\", ascending=False).head(10)"
   ]
  },
  {
   "cell_type": "code",
   "execution_count": 14,
   "metadata": {},
   "outputs": [
    {
     "data": {
      "text/plain": [
       "(3311925, 75)"
      ]
     },
     "execution_count": 14,
     "metadata": {},
     "output_type": "execute_result"
    }
   ],
   "source": [
    "train.shape"
   ]
  },
  {
   "cell_type": "code",
   "execution_count": 15,
   "metadata": {},
   "outputs": [],
   "source": [
    "train=train.dropna()"
   ]
  },
  {
   "cell_type": "code",
   "execution_count": 16,
   "metadata": {},
   "outputs": [
    {
     "data": {
      "text/plain": [
       "(2336557, 75)"
      ]
     },
     "execution_count": 16,
     "metadata": {},
     "output_type": "execute_result"
    }
   ],
   "source": [
    "train.shape"
   ]
  },
  {
   "cell_type": "markdown",
   "metadata": {},
   "source": [
    "Foi perdido ~1/3 dos dados, podemos procurar uma maneira de minimizar isso posteriomente, talvez a falta dessas notas esteja relacionado a coluna de presença na prova."
   ]
  },
  {
   "cell_type": "markdown",
   "metadata": {},
   "source": [
    "# Ajustando a escala dos dados e dividindo as variaveis:"
   ]
  },
  {
   "cell_type": "markdown",
   "metadata": {},
   "source": [
    "#### Treino:"
   ]
  },
  {
   "cell_type": "code",
   "execution_count": 17,
   "metadata": {
    "id": "1RJ-nIlcQHt3"
   },
   "outputs": [],
   "source": [
    "#Separando as variáveis dependentes e independentes do nosso modelo\n",
    "Y_train = train.loc[:,['NU_NOTA_CN','NU_NOTA_CH','NU_NOTA_LC','NU_NOTA_MT','NU_NOTA_REDACAO']]\n",
    "\n",
    "X_train = train.drop(columns=['NU_NOTA_CN','NU_NOTA_CH','NU_NOTA_LC','NU_NOTA_MT','NU_NOTA_REDACAO'])\n",
    "\n",
    "del train"
   ]
  },
  {
   "cell_type": "code",
   "execution_count": 18,
   "metadata": {},
   "outputs": [
    {
     "data": {
      "text/plain": [
       "(2336557, 70)"
      ]
     },
     "execution_count": 18,
     "metadata": {},
     "output_type": "execute_result"
    }
   ],
   "source": [
    "X_train.shape"
   ]
  },
  {
   "cell_type": "markdown",
   "metadata": {},
   "source": [
    "#### Teste:"
   ]
  },
  {
   "cell_type": "code",
   "execution_count": 19,
   "metadata": {
    "scrolled": false
   },
   "outputs": [
    {
     "data": {
      "text/html": [
       "<div>\n",
       "<style scoped>\n",
       "    .dataframe tbody tr th:only-of-type {\n",
       "        vertical-align: middle;\n",
       "    }\n",
       "\n",
       "    .dataframe tbody tr th {\n",
       "        vertical-align: top;\n",
       "    }\n",
       "\n",
       "    .dataframe thead th {\n",
       "        text-align: right;\n",
       "    }\n",
       "</style>\n",
       "<table border=\"1\" class=\"dataframe\">\n",
       "  <thead>\n",
       "    <tr style=\"text-align: right;\">\n",
       "      <th></th>\n",
       "      <th>NU_INSCRICAO</th>\n",
       "      <th>CO_UF_RESIDENCIA</th>\n",
       "      <th>NU_IDADE</th>\n",
       "      <th>TP_ESTADO_CIVIL</th>\n",
       "      <th>TP_COR_RACA</th>\n",
       "      <th>TP_NACIONALIDADE</th>\n",
       "      <th>CO_UF_NASCIMENTO</th>\n",
       "      <th>TP_ST_CONCLUSAO</th>\n",
       "      <th>TP_ANO_CONCLUIU</th>\n",
       "      <th>TP_ESCOLA</th>\n",
       "      <th>...</th>\n",
       "      <th>IN_NOME_SOCIAL</th>\n",
       "      <th>CO_MUNICIPIO_PROVA</th>\n",
       "      <th>CO_UF_PROVA</th>\n",
       "      <th>TP_PRESENCA_CN</th>\n",
       "      <th>TP_PRESENCA_CH</th>\n",
       "      <th>TP_PRESENCA_LC</th>\n",
       "      <th>TP_PRESENCA_MT</th>\n",
       "      <th>TP_LINGUA</th>\n",
       "      <th>TP_STATUS_REDACAO</th>\n",
       "      <th>M</th>\n",
       "    </tr>\n",
       "  </thead>\n",
       "  <tbody>\n",
       "    <tr>\n",
       "      <th>0</th>\n",
       "      <td>5d5b362b-7388-4ac6-81b3-23573e4e2d3a</td>\n",
       "      <td>23</td>\n",
       "      <td>22.0</td>\n",
       "      <td>1</td>\n",
       "      <td>3</td>\n",
       "      <td>1</td>\n",
       "      <td>23.0</td>\n",
       "      <td>1</td>\n",
       "      <td>3</td>\n",
       "      <td>1</td>\n",
       "      <td>...</td>\n",
       "      <td>0</td>\n",
       "      <td>2305506</td>\n",
       "      <td>23</td>\n",
       "      <td>0</td>\n",
       "      <td>0</td>\n",
       "      <td>0</td>\n",
       "      <td>0</td>\n",
       "      <td>1</td>\n",
       "      <td>NaN</td>\n",
       "      <td>0</td>\n",
       "    </tr>\n",
       "    <tr>\n",
       "      <th>1</th>\n",
       "      <td>52356efd-3239-4cd2-a444-416625dfc560</td>\n",
       "      <td>35</td>\n",
       "      <td>19.0</td>\n",
       "      <td>1</td>\n",
       "      <td>1</td>\n",
       "      <td>1</td>\n",
       "      <td>35.0</td>\n",
       "      <td>1</td>\n",
       "      <td>1</td>\n",
       "      <td>1</td>\n",
       "      <td>...</td>\n",
       "      <td>0</td>\n",
       "      <td>3548500</td>\n",
       "      <td>35</td>\n",
       "      <td>1</td>\n",
       "      <td>1</td>\n",
       "      <td>1</td>\n",
       "      <td>1</td>\n",
       "      <td>0</td>\n",
       "      <td>1.0</td>\n",
       "      <td>0</td>\n",
       "    </tr>\n",
       "    <tr>\n",
       "      <th>2</th>\n",
       "      <td>1ba42e9a-dd61-4405-9b08-79b728ad23c9</td>\n",
       "      <td>35</td>\n",
       "      <td>16.0</td>\n",
       "      <td>1</td>\n",
       "      <td>1</td>\n",
       "      <td>1</td>\n",
       "      <td>35.0</td>\n",
       "      <td>3</td>\n",
       "      <td>0</td>\n",
       "      <td>1</td>\n",
       "      <td>...</td>\n",
       "      <td>0</td>\n",
       "      <td>3552106</td>\n",
       "      <td>35</td>\n",
       "      <td>1</td>\n",
       "      <td>1</td>\n",
       "      <td>1</td>\n",
       "      <td>1</td>\n",
       "      <td>1</td>\n",
       "      <td>1.0</td>\n",
       "      <td>0</td>\n",
       "    </tr>\n",
       "    <tr>\n",
       "      <th>3</th>\n",
       "      <td>16fa0f84-a88f-43e6-bcbb-8d5ea41e5f03</td>\n",
       "      <td>35</td>\n",
       "      <td>22.0</td>\n",
       "      <td>1</td>\n",
       "      <td>1</td>\n",
       "      <td>1</td>\n",
       "      <td>35.0</td>\n",
       "      <td>1</td>\n",
       "      <td>5</td>\n",
       "      <td>1</td>\n",
       "      <td>...</td>\n",
       "      <td>0</td>\n",
       "      <td>3541000</td>\n",
       "      <td>35</td>\n",
       "      <td>1</td>\n",
       "      <td>1</td>\n",
       "      <td>1</td>\n",
       "      <td>1</td>\n",
       "      <td>0</td>\n",
       "      <td>1.0</td>\n",
       "      <td>1</td>\n",
       "    </tr>\n",
       "    <tr>\n",
       "      <th>4</th>\n",
       "      <td>fa663d11-5052-4ab2-b771-3a3de3bdec55</td>\n",
       "      <td>41</td>\n",
       "      <td>17.0</td>\n",
       "      <td>1</td>\n",
       "      <td>1</td>\n",
       "      <td>1</td>\n",
       "      <td>41.0</td>\n",
       "      <td>2</td>\n",
       "      <td>0</td>\n",
       "      <td>3</td>\n",
       "      <td>...</td>\n",
       "      <td>0</td>\n",
       "      <td>4106902</td>\n",
       "      <td>41</td>\n",
       "      <td>1</td>\n",
       "      <td>1</td>\n",
       "      <td>1</td>\n",
       "      <td>1</td>\n",
       "      <td>0</td>\n",
       "      <td>1.0</td>\n",
       "      <td>1</td>\n",
       "    </tr>\n",
       "  </tbody>\n",
       "</table>\n",
       "<p>5 rows × 71 columns</p>\n",
       "</div>"
      ],
      "text/plain": [
       "                           NU_INSCRICAO  CO_UF_RESIDENCIA  NU_IDADE  \\\n",
       "0  5d5b362b-7388-4ac6-81b3-23573e4e2d3a                23      22.0   \n",
       "1  52356efd-3239-4cd2-a444-416625dfc560                35      19.0   \n",
       "2  1ba42e9a-dd61-4405-9b08-79b728ad23c9                35      16.0   \n",
       "3  16fa0f84-a88f-43e6-bcbb-8d5ea41e5f03                35      22.0   \n",
       "4  fa663d11-5052-4ab2-b771-3a3de3bdec55                41      17.0   \n",
       "\n",
       "   TP_ESTADO_CIVIL  TP_COR_RACA  TP_NACIONALIDADE  CO_UF_NASCIMENTO  \\\n",
       "0                1            3                 1              23.0   \n",
       "1                1            1                 1              35.0   \n",
       "2                1            1                 1              35.0   \n",
       "3                1            1                 1              35.0   \n",
       "4                1            1                 1              41.0   \n",
       "\n",
       "   TP_ST_CONCLUSAO  TP_ANO_CONCLUIU  TP_ESCOLA  ...  IN_NOME_SOCIAL  \\\n",
       "0                1                3          1  ...               0   \n",
       "1                1                1          1  ...               0   \n",
       "2                3                0          1  ...               0   \n",
       "3                1                5          1  ...               0   \n",
       "4                2                0          3  ...               0   \n",
       "\n",
       "   CO_MUNICIPIO_PROVA  CO_UF_PROVA  TP_PRESENCA_CN  TP_PRESENCA_CH  \\\n",
       "0             2305506           23               0               0   \n",
       "1             3548500           35               1               1   \n",
       "2             3552106           35               1               1   \n",
       "3             3541000           35               1               1   \n",
       "4             4106902           41               1               1   \n",
       "\n",
       "   TP_PRESENCA_LC  TP_PRESENCA_MT  TP_LINGUA  TP_STATUS_REDACAO  M  \n",
       "0               0               0          1                NaN  0  \n",
       "1               1               1          0                1.0  0  \n",
       "2               1               1          1                1.0  0  \n",
       "3               1               1          0                1.0  1  \n",
       "4               1               1          0                1.0  1  \n",
       "\n",
       "[5 rows x 71 columns]"
      ]
     },
     "execution_count": 19,
     "metadata": {},
     "output_type": "execute_result"
    }
   ],
   "source": [
    "test.head()"
   ]
  },
  {
   "cell_type": "code",
   "execution_count": 20,
   "metadata": {},
   "outputs": [
    {
     "data": {
      "text/plain": [
       "0    5d5b362b-7388-4ac6-81b3-23573e4e2d3a\n",
       "1    52356efd-3239-4cd2-a444-416625dfc560\n",
       "2    1ba42e9a-dd61-4405-9b08-79b728ad23c9\n",
       "3    16fa0f84-a88f-43e6-bcbb-8d5ea41e5f03\n",
       "4    fa663d11-5052-4ab2-b771-3a3de3bdec55\n",
       "Name: NU_INSCRICAO, dtype: object"
      ]
     },
     "execution_count": 20,
     "metadata": {},
     "output_type": "execute_result"
    }
   ],
   "source": [
    "out = test['NU_INSCRICAO']\n",
    "test=test.drop(columns=['NU_INSCRICAO'])\n",
    "out.head()"
   ]
  },
  {
   "cell_type": "code",
   "execution_count": 21,
   "metadata": {},
   "outputs": [],
   "source": [
    "X_test=test\n",
    "del test"
   ]
  },
  {
   "cell_type": "code",
   "execution_count": 22,
   "metadata": {},
   "outputs": [],
   "source": [
    "scaler=StandardScaler()\n",
    "X_train_scaled=scaler.fit_transform(X_train)\n",
    "\n",
    "#X_test_scaled=scaler.transform(X_test)\n",
    "\n",
    "#Y_train_scaled=scaler2.fit_transform(Y_train)\n"
   ]
  },
  {
   "cell_type": "code",
   "execution_count": 23,
   "metadata": {},
   "outputs": [],
   "source": [
    "X_train_scaled = pd.DataFrame(X_train_scaled, columns=X_train.columns)"
   ]
  },
  {
   "cell_type": "code",
   "execution_count": 24,
   "metadata": {},
   "outputs": [
    {
     "data": {
      "text/plain": [
       "(2336557, 70)"
      ]
     },
     "execution_count": 24,
     "metadata": {},
     "output_type": "execute_result"
    }
   ],
   "source": [
    "X_train_scaled.shape"
   ]
  },
  {
   "cell_type": "markdown",
   "metadata": {},
   "source": [
    "# Observando as features que tem mais impacto sobre as notas:"
   ]
  },
  {
   "cell_type": "markdown",
   "metadata": {},
   "source": [
    "#### Utilizamos Regressão de Lasso para encontrar as colunas com maior influencia em relação a cada nota:"
   ]
  },
  {
   "cell_type": "code",
   "execution_count": 25,
   "metadata": {},
   "outputs": [],
   "source": [
    "from sklearn.linear_model import Lasso\n",
    "from sklearn.impute import SimpleImputer"
   ]
  },
  {
   "cell_type": "code",
   "execution_count": 26,
   "metadata": {},
   "outputs": [],
   "source": [
    "lista_tipos=['NU_NOTA_CN','NU_NOTA_CH','NU_NOTA_LC','NU_NOTA_MT','NU_NOTA_REDACAO']\n",
    "dicionario={'NU_NOTA_CN':'Ciências da Natureza', 'NU_NOTA_CH':'Ciências Humanas', 'NU_NOTA_LC':'Linguagens e Códigos', 'NU_NOTA_MT':'Matemática', 'NU_NOTA_REDACAO':'Redação'}"
   ]
  },
  {
   "cell_type": "code",
   "execution_count": 27,
   "metadata": {},
   "outputs": [
    {
     "name": "stdout",
     "output_type": "stream",
     "text": [
      "\n",
      "\n",
      "Features non-zero para Ciências da Natureza: 15\n",
      "Features com valores non-zero (ordenados pela magnitude absoluta):\n",
      "\tTP_LINGUA, -15.589\n",
      "\tTP_COR_RACA, -9.376\n",
      "\tTP_ANO_CONCLUIU, 9.042\n",
      "\tTP_ST_CONCLUSAO, -8.798\n",
      "\tIN_TREINEIRO, 7.974\n",
      "\tTP_ESCOLA, 7.146\n",
      "\tM, 6.768\n",
      "\tNU_IDADE, -6.727\n",
      "\tTP_STATUS_REDACAO, -5.789\n",
      "\tCO_UF_NASCIMENTO, 4.224\n",
      "\tCO_MUNICIPIO_PROVA, 1.237\n",
      "\tIN_DEFICIT_ATENCAO, 1.228\n",
      "\tIN_LEDOR, -0.267\n",
      "\tTP_ESTADO_CIVIL, -0.101\n",
      "\tIN_DEFICIENCIA_MENTAL, -0.024\n"
     ]
    }
   ],
   "source": [
    "i='NU_NOTA_CN'\n",
    "linlasso_cn = Lasso(alpha=1.0, max_iter = 10000).fit(X_train_scaled, Y_train.loc[:,i])\n",
    "print('\\n')\n",
    "print('Features non-zero para {}: {}'.format(dicionario[i], np.sum(linlasso_cn.coef_ != 0)))\n",
    "print('Features com valores non-zero (ordenados pela magnitude absoluta):')\n",
    "\n",
    "for e in sorted (list(zip(list(X_train), linlasso_cn.coef_)), key = lambda e: -abs(e[1])):\n",
    "    if e[1] != 0:\n",
    "        print('\\t{}, {:.3f}'.format(e[0], e[1]))"
   ]
  },
  {
   "cell_type": "code",
   "execution_count": 28,
   "metadata": {},
   "outputs": [
    {
     "name": "stdout",
     "output_type": "stream",
     "text": [
      "\n",
      "\n",
      "Features non-zero para Ciências Humanas: 17\n",
      "Features com valores non-zero (ordenados pela magnitude absoluta):\n",
      "\tTP_LINGUA, -17.155\n",
      "\tTP_ANO_CONCLUIU, 12.059\n",
      "\tTP_COR_RACA, -10.058\n",
      "\tTP_STATUS_REDACAO, -8.628\n",
      "\tNU_IDADE, -6.380\n",
      "\tTP_ESCOLA, 5.560\n",
      "\tTP_ST_CONCLUSAO, -5.281\n",
      "\tCO_UF_NASCIMENTO, 4.275\n",
      "\tIN_TREINEIRO, 4.256\n",
      "\tM, 3.880\n",
      "\tCO_MUNICIPIO_PROVA, 2.247\n",
      "\tIN_DEFICIT_ATENCAO, 0.703\n",
      "\tIN_LEDOR, -0.230\n",
      "\tIN_DEFICIENCIA_MENTAL, -0.190\n",
      "\tTP_ESTADO_CIVIL, -0.185\n",
      "\tIN_SURDEZ, -0.050\n",
      "\tIN_TEMPO_ADICIONAL, 0.035\n"
     ]
    }
   ],
   "source": [
    "i='NU_NOTA_CH'\n",
    "linlasso_ch = Lasso(alpha=1.0, max_iter = 10000).fit(X_train_scaled, Y_train.loc[:,i])\n",
    "print('\\n')\n",
    "print('Features non-zero para {}: {}'.format(dicionario[i], np.sum(linlasso_ch.coef_ != 0)))\n",
    "print('Features com valores non-zero (ordenados pela magnitude absoluta):')\n",
    "\n",
    "for e in sorted (list(zip(list(X_train), linlasso_ch.coef_)), key = lambda e: -abs(e[1])):\n",
    "    if e[1] != 0:\n",
    "        print('\\t{}, {:.3f}'.format(e[0], e[1]))"
   ]
  },
  {
   "cell_type": "code",
   "execution_count": 29,
   "metadata": {},
   "outputs": [
    {
     "name": "stdout",
     "output_type": "stream",
     "text": [
      "\n",
      "\n",
      "Features non-zero para Linguagens e Códigos: 14\n",
      "Features com valores non-zero (ordenados pela magnitude absoluta):\n",
      "\tTP_LINGUA, -14.072\n",
      "\tTP_ANO_CONCLUIU, 9.506\n",
      "\tNU_IDADE, -8.929\n",
      "\tTP_STATUS_REDACAO, -7.847\n",
      "\tTP_COR_RACA, -7.658\n",
      "\tCO_UF_NASCIMENTO, 3.891\n",
      "\tCO_MUNICIPIO_PROVA, 2.146\n",
      "\tTP_ST_CONCLUSAO, -1.689\n",
      "\tTP_ESCOLA, 0.865\n",
      "\tIN_SURDEZ, -0.357\n",
      "\tIN_DEFICIENCIA_MENTAL, -0.346\n",
      "\tIN_LEDOR, -0.286\n",
      "\tIN_LIBRAS, -0.105\n",
      "\tIN_DEFICIENCIA_AUDITIVA, -0.087\n"
     ]
    }
   ],
   "source": [
    "i='NU_NOTA_LC'\n",
    "linlasso_lc = Lasso(alpha=1.0, max_iter = 10000).fit(X_train_scaled, Y_train.loc[:,i])\n",
    "print('\\n')\n",
    "print('Features non-zero para {}: {}'.format(dicionario[i], np.sum(linlasso_lc.coef_ != 0)))\n",
    "print('Features com valores non-zero (ordenados pela magnitude absoluta):')\n",
    "\n",
    "for e in sorted (list(zip(list(X_train), linlasso_lc.coef_)), key = lambda e: -abs(e[1])):\n",
    "    if e[1] != 0:\n",
    "        print('\\t{}, {:.3f}'.format(e[0], e[1]))"
   ]
  },
  {
   "cell_type": "code",
   "execution_count": 30,
   "metadata": {},
   "outputs": [
    {
     "name": "stdout",
     "output_type": "stream",
     "text": [
      "\n",
      "\n",
      "Features non-zero para Matemática: 16\n",
      "Features com valores non-zero (ordenados pela magnitude absoluta):\n",
      "\tTP_LINGUA, -21.513\n",
      "\tIN_TREINEIRO, 20.397\n",
      "\tTP_ST_CONCLUSAO, -20.289\n",
      "\tNU_IDADE, -19.563\n",
      "\tM, 17.301\n",
      "\tTP_ESCOLA, 17.050\n",
      "\tTP_ANO_CONCLUIU, 14.355\n",
      "\tTP_COR_RACA, -13.446\n",
      "\tTP_STATUS_REDACAO, -7.833\n",
      "\tCO_UF_NASCIMENTO, 6.853\n",
      "\tIN_DEFICIT_ATENCAO, 1.960\n",
      "\tIN_LEDOR, -1.251\n",
      "\tCO_MUNICIPIO_PROVA, 1.230\n",
      "\tIN_TEMPO_ADICIONAL, 0.382\n",
      "\tIN_SURDEZ, -0.128\n",
      "\tIN_DEFICIENCIA_MENTAL, -0.107\n"
     ]
    }
   ],
   "source": [
    "i='NU_NOTA_MT'\n",
    "linlasso_mt = Lasso(alpha=1.0, max_iter = 10000).fit(X_train_scaled, Y_train.loc[:,i])\n",
    "print('\\n')\n",
    "print('Features non-zero para {}: {}'.format(dicionario[i], np.sum(linlasso_mt.coef_ != 0)))\n",
    "print('Features com valores non-zero (ordenados pela magnitude absoluta):')\n",
    "\n",
    "for e in sorted (list(zip(list(X_train), linlasso_mt.coef_)), key = lambda e: -abs(e[1])):\n",
    "    if e[1] != 0:\n",
    "        print('\\t{}, {:.3f}'.format(e[0], e[1]))"
   ]
  },
  {
   "cell_type": "code",
   "execution_count": 31,
   "metadata": {},
   "outputs": [
    {
     "name": "stdout",
     "output_type": "stream",
     "text": [
      "\n",
      "\n",
      "Features non-zero para Redação: 16\n",
      "Features com valores non-zero (ordenados pela magnitude absoluta):\n",
      "\tTP_STATUS_REDACAO, -84.603\n",
      "\tTP_ST_CONCLUSAO, -50.043\n",
      "\tIN_TREINEIRO, 36.841\n",
      "\tNU_IDADE, -34.612\n",
      "\tTP_ESCOLA, 33.415\n",
      "\tTP_LINGUA, -23.735\n",
      "\tTP_COR_RACA, -14.368\n",
      "\tTP_ANO_CONCLUIU, 12.977\n",
      "\tM, -7.259\n",
      "\tIN_TEMPO_ADICIONAL, 2.844\n",
      "\tIN_LEDOR, -2.217\n",
      "\tIN_DEFICIT_ATENCAO, 1.748\n",
      "\tIN_DEFICIENCIA_MENTAL, -1.539\n",
      "\tIN_SURDEZ, -0.694\n",
      "\tIN_AUTISMO, -0.584\n",
      "\tIN_LIBRAS, -0.238\n"
     ]
    }
   ],
   "source": [
    "i='NU_NOTA_REDACAO'\n",
    "linlasso_red = Lasso(alpha=1.0, max_iter = 10000).fit(X_train_scaled, Y_train.loc[:,i])\n",
    "print('\\n')\n",
    "print('Features non-zero para {}: {}'.format(dicionario[i], np.sum(linlasso_red.coef_ != 0)))\n",
    "print('Features com valores non-zero (ordenados pela magnitude absoluta):')\n",
    "\n",
    "for e in sorted (list(zip(list(X_train), linlasso_red.coef_)), key = lambda e: -abs(e[1])):\n",
    "    if e[1] != 0:\n",
    "        print('\\t{}, {:.3f}'.format(e[0], e[1]))"
   ]
  },
  {
   "cell_type": "markdown",
   "metadata": {},
   "source": [
    "### Fazendo as predições:\n",
    "Precisamos realizar um breve tratamento nos NaNs do test:"
   ]
  },
  {
   "cell_type": "code",
   "execution_count": 32,
   "metadata": {
    "scrolled": true
   },
   "outputs": [
    {
     "data": {
      "text/html": [
       "<div>\n",
       "<style scoped>\n",
       "    .dataframe tbody tr th:only-of-type {\n",
       "        vertical-align: middle;\n",
       "    }\n",
       "\n",
       "    .dataframe tbody tr th {\n",
       "        vertical-align: top;\n",
       "    }\n",
       "\n",
       "    .dataframe thead th {\n",
       "        text-align: right;\n",
       "    }\n",
       "</style>\n",
       "<table border=\"1\" class=\"dataframe\">\n",
       "  <thead>\n",
       "    <tr style=\"text-align: right;\">\n",
       "      <th></th>\n",
       "      <th>index</th>\n",
       "      <th>Dados faltantes</th>\n",
       "    </tr>\n",
       "  </thead>\n",
       "  <tbody>\n",
       "    <tr>\n",
       "      <th>68</th>\n",
       "      <td>TP_STATUS_REDACAO</td>\n",
       "      <td>0.229794</td>\n",
       "    </tr>\n",
       "    <tr>\n",
       "      <th>5</th>\n",
       "      <td>CO_UF_NASCIMENTO</td>\n",
       "      <td>0.028422</td>\n",
       "    </tr>\n",
       "    <tr>\n",
       "      <th>1</th>\n",
       "      <td>NU_IDADE</td>\n",
       "      <td>0.000020</td>\n",
       "    </tr>\n",
       "    <tr>\n",
       "      <th>44</th>\n",
       "      <td>IN_CADEIRA_ACOLCHOADA</td>\n",
       "      <td>0.000000</td>\n",
       "    </tr>\n",
       "    <tr>\n",
       "      <th>50</th>\n",
       "      <td>IN_MAQUINA_BRAILE</td>\n",
       "      <td>0.000000</td>\n",
       "    </tr>\n",
       "  </tbody>\n",
       "</table>\n",
       "</div>"
      ],
      "text/plain": [
       "                    index  Dados faltantes\n",
       "68      TP_STATUS_REDACAO         0.229794\n",
       "5        CO_UF_NASCIMENTO         0.028422\n",
       "1                NU_IDADE         0.000020\n",
       "44  IN_CADEIRA_ACOLCHOADA         0.000000\n",
       "50      IN_MAQUINA_BRAILE         0.000000"
      ]
     },
     "execution_count": 32,
     "metadata": {},
     "output_type": "execute_result"
    }
   ],
   "source": [
    "X_test.isna().mean().reset_index(name=\"Dados faltantes\").sort_values(by=\"Dados faltantes\", ascending=False).head()"
   ]
  },
  {
   "cell_type": "code",
   "execution_count": 33,
   "metadata": {
    "scrolled": false
   },
   "outputs": [
    {
     "data": {
      "text/plain": [
       "TP_STATUS_REDACAO\n",
       "1.0    1323217\n",
       "2.0       1973\n",
       "3.0       8099\n",
       "4.0      19946\n",
       "6.0      14185\n",
       "7.0       1331\n",
       "8.0       3062\n",
       "9.0       1730\n",
       "dtype: int64"
      ]
     },
     "execution_count": 33,
     "metadata": {},
     "output_type": "execute_result"
    }
   ],
   "source": [
    "X_test.groupby(by='TP_STATUS_REDACAO').size()"
   ]
  },
  {
   "cell_type": "markdown",
   "metadata": {},
   "source": [
    "Os dados faltantes podem ser completados com os mais frequentes em cada coluna:"
   ]
  },
  {
   "cell_type": "code",
   "execution_count": 34,
   "metadata": {},
   "outputs": [],
   "source": [
    "X_test_complete=SimpleImputer(missing_values=np.nan,strategy='most_frequent').fit_transform(X_test)\n",
    "X_test_complete=pd.DataFrame(X_test_complete, columns=X_test.columns)"
   ]
  },
  {
   "cell_type": "markdown",
   "metadata": {},
   "source": [
    "Escalando os dados de teste na mesma escala dos de treino:"
   ]
  },
  {
   "cell_type": "code",
   "execution_count": 35,
   "metadata": {},
   "outputs": [],
   "source": [
    "X_test_scaled=scaler.transform(X_test_complete)\n",
    "X_test_scaled = pd.DataFrame(X_test_scaled, columns=X_test_complete.columns)"
   ]
  },
  {
   "cell_type": "code",
   "execution_count": 37,
   "metadata": {},
   "outputs": [],
   "source": [
    "nota_cn=linlasso_cn.predict(X_test_scaled)\n",
    "nota_ch=linlasso_ch.predict(X_test_scaled)\n",
    "nota_lc=linlasso_lc.predict(X_test_scaled)\n",
    "nota_mt=linlasso_mt.predict(X_test_scaled)\n",
    "nota_red=linlasso_red.predict(X_test_scaled)"
   ]
  },
  {
   "cell_type": "code",
   "execution_count": 47,
   "metadata": {},
   "outputs": [],
   "source": [
    "data_saida={'NU_INSCRICAO':out,'NU_NOTA_CN':nota_cn,'NU_NOTA_CH':nota_ch,'NU_NOTA_LC':nota_lc,'NU_NOTA_MT':nota_mt,'NU_NOTA_REDACAO':nota_red}"
   ]
  },
  {
   "cell_type": "code",
   "execution_count": 50,
   "metadata": {},
   "outputs": [],
   "source": [
    "dataframe_saida=pd.DataFrame(data_saida)"
   ]
  },
  {
   "cell_type": "code",
   "execution_count": 52,
   "metadata": {},
   "outputs": [],
   "source": [
    "dataframe_saida.to_csv('predicoes.csv',index=False)"
   ]
  }
 ],
 "metadata": {
  "colab": {
   "name": "ML-ENEM.ipynb",
   "provenance": []
  },
  "kernelspec": {
   "display_name": "Python 3",
   "language": "python",
   "name": "python3"
  },
  "language_info": {
   "codemirror_mode": {
    "name": "ipython",
    "version": 3
   },
   "file_extension": ".py",
   "mimetype": "text/x-python",
   "name": "python",
   "nbconvert_exporter": "python",
   "pygments_lexer": "ipython3",
   "version": "3.8.8"
  }
 },
 "nbformat": 4,
 "nbformat_minor": 1
}
