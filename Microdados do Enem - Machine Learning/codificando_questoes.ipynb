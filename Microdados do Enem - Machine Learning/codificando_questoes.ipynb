{
 "cells": [
  {
   "cell_type": "code",
   "execution_count": 95,
   "metadata": {
    "colab": {
     "base_uri": "https://localhost:8080/"
    },
    "id": "5yzTPe47LC3G",
    "outputId": "90bd11cd-50b7-4999-efdc-94f9063fc18c"
   },
   "outputs": [],
   "source": [
    "#importanto bibliotecas\n",
    "\n",
    "import matplotlib.pyplot as plt\n",
    "import pandas as pd\n",
    "import numpy as np\n",
    "from sklearn import datasets, linear_model, preprocessing\n",
    "import statsmodels.api as sm\n",
    "from sklearn.metrics import mean_squared_error, r2_score\n",
    "from sklearn.model_selection import train_test_split\n",
    "from sklearn.preprocessing import StandardScaler\n",
    "\n"
   ]
  },
  {
   "cell_type": "code",
   "execution_count": 96,
   "metadata": {},
   "outputs": [],
   "source": [
    "def dicionario(x):\n",
    "    dicionario_letras={'A':1,'B':2,'C':3,'D':4,'E':5,'F':6,'G':7,'H':8,'I':9,\n",
    "                   'J':10,'K':11,'L':12,'M':13,'N':14,'O':15,'P':16,'Q':17}\n",
    "    return dicionario_letras[x]"
   ]
  },
  {
   "cell_type": "markdown",
   "metadata": {},
   "source": [
    "Leitura dos CSVs a partir das colunas importantes retiradas do dicionario:"
   ]
  },
  {
   "cell_type": "code",
   "execution_count": 97,
   "metadata": {},
   "outputs": [],
   "source": [
    "colunas_treino=['Q001','Q002','Q003','Q004','Q005','Q006','Q007','Q008','Q009','Q010','Q011','Q012',\n",
    "                'Q013','Q014','Q015','Q016','Q017','Q018','Q019','Q020','Q021','Q022','Q023','Q024','Q025']\n",
    "\n",
    "#Q5 é numerico (consultar microdados)"
   ]
  },
  {
   "cell_type": "code",
   "execution_count": 98,
   "metadata": {},
   "outputs": [
    {
     "name": "stdout",
     "output_type": "stream",
     "text": [
      "<class 'pandas.core.frame.DataFrame'>\n",
      "RangeIndex: 3311925 entries, 0 to 3311924\n",
      "Data columns (total 25 columns):\n",
      " #   Column  Dtype \n",
      "---  ------  ----- \n",
      " 0   Q001    object\n",
      " 1   Q002    object\n",
      " 2   Q003    object\n",
      " 3   Q004    object\n",
      " 4   Q005    int64 \n",
      " 5   Q006    object\n",
      " 6   Q007    object\n",
      " 7   Q008    object\n",
      " 8   Q009    object\n",
      " 9   Q010    object\n",
      " 10  Q011    object\n",
      " 11  Q012    object\n",
      " 12  Q013    object\n",
      " 13  Q014    object\n",
      " 14  Q015    object\n",
      " 15  Q016    object\n",
      " 16  Q017    object\n",
      " 17  Q018    object\n",
      " 18  Q019    object\n",
      " 19  Q020    object\n",
      " 20  Q021    object\n",
      " 21  Q022    object\n",
      " 22  Q023    object\n",
      " 23  Q024    object\n",
      " 24  Q025    object\n",
      "dtypes: int64(1), object(24)\n",
      "memory usage: 4.3 GB\n"
     ]
    }
   ],
   "source": [
    "train = pd.read_csv(\"train.csv\", usecols=colunas_treino)\n",
    "train.info(memory_usage=\"deep\")"
   ]
  },
  {
   "cell_type": "code",
   "execution_count": 99,
   "metadata": {},
   "outputs": [
    {
     "data": {
      "text/html": [
       "<div>\n",
       "<style scoped>\n",
       "    .dataframe tbody tr th:only-of-type {\n",
       "        vertical-align: middle;\n",
       "    }\n",
       "\n",
       "    .dataframe tbody tr th {\n",
       "        vertical-align: top;\n",
       "    }\n",
       "\n",
       "    .dataframe thead th {\n",
       "        text-align: right;\n",
       "    }\n",
       "</style>\n",
       "<table border=\"1\" class=\"dataframe\">\n",
       "  <thead>\n",
       "    <tr style=\"text-align: right;\">\n",
       "      <th></th>\n",
       "      <th>index</th>\n",
       "      <th>Dados faltantes</th>\n",
       "    </tr>\n",
       "  </thead>\n",
       "  <tbody>\n",
       "    <tr>\n",
       "      <th>0</th>\n",
       "      <td>Q001</td>\n",
       "      <td>0.0</td>\n",
       "    </tr>\n",
       "    <tr>\n",
       "      <th>13</th>\n",
       "      <td>Q014</td>\n",
       "      <td>0.0</td>\n",
       "    </tr>\n",
       "    <tr>\n",
       "      <th>23</th>\n",
       "      <td>Q024</td>\n",
       "      <td>0.0</td>\n",
       "    </tr>\n",
       "    <tr>\n",
       "      <th>22</th>\n",
       "      <td>Q023</td>\n",
       "      <td>0.0</td>\n",
       "    </tr>\n",
       "    <tr>\n",
       "      <th>21</th>\n",
       "      <td>Q022</td>\n",
       "      <td>0.0</td>\n",
       "    </tr>\n",
       "    <tr>\n",
       "      <th>20</th>\n",
       "      <td>Q021</td>\n",
       "      <td>0.0</td>\n",
       "    </tr>\n",
       "    <tr>\n",
       "      <th>19</th>\n",
       "      <td>Q020</td>\n",
       "      <td>0.0</td>\n",
       "    </tr>\n",
       "    <tr>\n",
       "      <th>18</th>\n",
       "      <td>Q019</td>\n",
       "      <td>0.0</td>\n",
       "    </tr>\n",
       "    <tr>\n",
       "      <th>17</th>\n",
       "      <td>Q018</td>\n",
       "      <td>0.0</td>\n",
       "    </tr>\n",
       "    <tr>\n",
       "      <th>16</th>\n",
       "      <td>Q017</td>\n",
       "      <td>0.0</td>\n",
       "    </tr>\n",
       "  </tbody>\n",
       "</table>\n",
       "</div>"
      ],
      "text/plain": [
       "   index  Dados faltantes\n",
       "0   Q001              0.0\n",
       "13  Q014              0.0\n",
       "23  Q024              0.0\n",
       "22  Q023              0.0\n",
       "21  Q022              0.0\n",
       "20  Q021              0.0\n",
       "19  Q020              0.0\n",
       "18  Q019              0.0\n",
       "17  Q018              0.0\n",
       "16  Q017              0.0"
      ]
     },
     "execution_count": 99,
     "metadata": {},
     "output_type": "execute_result"
    }
   ],
   "source": [
    "train.isna().mean().reset_index(name=\"Dados faltantes\").sort_values(by=\"Dados faltantes\", ascending=False).head(10)"
   ]
  },
  {
   "cell_type": "code",
   "execution_count": 100,
   "metadata": {},
   "outputs": [],
   "source": [
    "for i in range(1,5):\n",
    "    train[f'Q00{i}']=list(map(dicionario,train[f'Q00{i}']))\n",
    "    \n",
    "for i in range(6,10):\n",
    "    train[f'Q00{i}']=list(map(dicionario,train[f'Q00{i}']))\n",
    "    \n",
    "for i in range(10,26):\n",
    "    train[f'Q0{i}']=list(map(dicionario,train[f'Q0{i}']))"
   ]
  },
  {
   "cell_type": "code",
   "execution_count": 101,
   "metadata": {},
   "outputs": [
    {
     "name": "stdout",
     "output_type": "stream",
     "text": [
      "<class 'pandas.core.frame.DataFrame'>\n",
      "RangeIndex: 3311925 entries, 0 to 3311924\n",
      "Data columns (total 25 columns):\n",
      " #   Column  Dtype\n",
      "---  ------  -----\n",
      " 0   Q001    int64\n",
      " 1   Q002    int64\n",
      " 2   Q003    int64\n",
      " 3   Q004    int64\n",
      " 4   Q005    int64\n",
      " 5   Q006    int64\n",
      " 6   Q007    int64\n",
      " 7   Q008    int64\n",
      " 8   Q009    int64\n",
      " 9   Q010    int64\n",
      " 10  Q011    int64\n",
      " 11  Q012    int64\n",
      " 12  Q013    int64\n",
      " 13  Q014    int64\n",
      " 14  Q015    int64\n",
      " 15  Q016    int64\n",
      " 16  Q017    int64\n",
      " 17  Q018    int64\n",
      " 18  Q019    int64\n",
      " 19  Q020    int64\n",
      " 20  Q021    int64\n",
      " 21  Q022    int64\n",
      " 22  Q023    int64\n",
      " 23  Q024    int64\n",
      " 24  Q025    int64\n",
      "dtypes: int64(25)\n",
      "memory usage: 631.7 MB\n"
     ]
    }
   ],
   "source": [
    "train.info(memory_usage=\"deep\")"
   ]
  },
  {
   "cell_type": "code",
   "execution_count": 52,
   "metadata": {},
   "outputs": [],
   "source": [
    "dataframe_saida.to_csv('questoes.csv',index=False)"
   ]
  }
 ],
 "metadata": {
  "colab": {
   "name": "ML-ENEM.ipynb",
   "provenance": []
  },
  "kernelspec": {
   "display_name": "Python 3",
   "language": "python",
   "name": "python3"
  },
  "language_info": {
   "codemirror_mode": {
    "name": "ipython",
    "version": 3
   },
   "file_extension": ".py",
   "mimetype": "text/x-python",
   "name": "python",
   "nbconvert_exporter": "python",
   "pygments_lexer": "ipython3",
   "version": "3.8.8"
  }
 },
 "nbformat": 4,
 "nbformat_minor": 1
}
